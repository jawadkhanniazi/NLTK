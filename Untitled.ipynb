{
 "cells": [
  {
   "cell_type": "code",
   "execution_count": 37,
   "id": "863ee2da",
   "metadata": {},
   "outputs": [
    {
     "data": {
      "text/html": [
       "<div>\n",
       "<style scoped>\n",
       "    .dataframe tbody tr th:only-of-type {\n",
       "        vertical-align: middle;\n",
       "    }\n",
       "\n",
       "    .dataframe tbody tr th {\n",
       "        vertical-align: top;\n",
       "    }\n",
       "\n",
       "    .dataframe thead th {\n",
       "        text-align: right;\n",
       "    }\n",
       "</style>\n",
       "<table border=\"1\" class=\"dataframe\">\n",
       "  <thead>\n",
       "    <tr style=\"text-align: right;\">\n",
       "      <th></th>\n",
       "      <th>id</th>\n",
       "      <th>title</th>\n",
       "      <th>author</th>\n",
       "      <th>text</th>\n",
       "      <th>label</th>\n",
       "    </tr>\n",
       "  </thead>\n",
       "  <tbody>\n",
       "    <tr>\n",
       "      <th>0</th>\n",
       "      <td>0</td>\n",
       "      <td>House Dem Aide: We Didn’t Even See Comey’s Let...</td>\n",
       "      <td>Darrell Lucus</td>\n",
       "      <td>House Dem Aide: We Didn’t Even See Comey’s Let...</td>\n",
       "      <td>1</td>\n",
       "    </tr>\n",
       "    <tr>\n",
       "      <th>1</th>\n",
       "      <td>1</td>\n",
       "      <td>FLYNN: Hillary Clinton, Big Woman on Campus - ...</td>\n",
       "      <td>Daniel J. Flynn</td>\n",
       "      <td>Ever get the feeling your life circles the rou...</td>\n",
       "      <td>0</td>\n",
       "    </tr>\n",
       "    <tr>\n",
       "      <th>2</th>\n",
       "      <td>2</td>\n",
       "      <td>Why the Truth Might Get You Fired</td>\n",
       "      <td>Consortiumnews.com</td>\n",
       "      <td>Why the Truth Might Get You Fired October 29, ...</td>\n",
       "      <td>1</td>\n",
       "    </tr>\n",
       "    <tr>\n",
       "      <th>3</th>\n",
       "      <td>3</td>\n",
       "      <td>15 Civilians Killed In Single US Airstrike Hav...</td>\n",
       "      <td>Jessica Purkiss</td>\n",
       "      <td>Videos 15 Civilians Killed In Single US Airstr...</td>\n",
       "      <td>1</td>\n",
       "    </tr>\n",
       "    <tr>\n",
       "      <th>4</th>\n",
       "      <td>4</td>\n",
       "      <td>Iranian woman jailed for fictional unpublished...</td>\n",
       "      <td>Howard Portnoy</td>\n",
       "      <td>Print \\nAn Iranian woman has been sentenced to...</td>\n",
       "      <td>1</td>\n",
       "    </tr>\n",
       "  </tbody>\n",
       "</table>\n",
       "</div>"
      ],
      "text/plain": [
       "   id                                              title              author  \\\n",
       "0   0  House Dem Aide: We Didn’t Even See Comey’s Let...       Darrell Lucus   \n",
       "1   1  FLYNN: Hillary Clinton, Big Woman on Campus - ...     Daniel J. Flynn   \n",
       "2   2                  Why the Truth Might Get You Fired  Consortiumnews.com   \n",
       "3   3  15 Civilians Killed In Single US Airstrike Hav...     Jessica Purkiss   \n",
       "4   4  Iranian woman jailed for fictional unpublished...      Howard Portnoy   \n",
       "\n",
       "                                                text  label  \n",
       "0  House Dem Aide: We Didn’t Even See Comey’s Let...      1  \n",
       "1  Ever get the feeling your life circles the rou...      0  \n",
       "2  Why the Truth Might Get You Fired October 29, ...      1  \n",
       "3  Videos 15 Civilians Killed In Single US Airstr...      1  \n",
       "4  Print \\nAn Iranian woman has been sentenced to...      1  "
      ]
     },
     "execution_count": 37,
     "metadata": {},
     "output_type": "execute_result"
    }
   ],
   "source": [
    "import pandas as pd\n",
    "ds= pd.read_csv(\"test.csv\")\n",
    "\n",
    "ds.head(5)"
   ]
  },
  {
   "cell_type": "code",
   "execution_count": 38,
   "id": "fb5e50e3",
   "metadata": {},
   "outputs": [],
   "source": [
    "unCleanedCorpus = ds['text'][:10]\n",
    "labels = ds['label'][:10]\n",
    "unCleanedCorpus.to_numpy()\n",
    "labels.to_numpy()\n",
    "recordCount = len(unCleanedCorpus)"
   ]
  },
  {
   "cell_type": "code",
   "execution_count": 39,
   "id": "cbc67d38",
   "metadata": {},
   "outputs": [],
   "source": [
    "import nltk\n",
    "from nltk.corpus import stopwords\n",
    "def remove_stopwords(doc_text):\n",
    "    stop_words = stopwords.words('english')\n",
    "    cleaned_text = []\n",
    "    for words in doc_text:\n",
    "        if words not in stop_words:\n",
    "            cleaned_text.append(words)\n",
    "    return cleaned_text"
   ]
  },
  {
   "cell_type": "code",
   "execution_count": 40,
   "id": "df916bc7",
   "metadata": {},
   "outputs": [],
   "source": [
    "cleanCorpus = []\n",
    "cleanCorpus = remove_stopwords(unCleanedCorpus)"
   ]
  },
  {
   "cell_type": "code",
   "execution_count": 41,
   "id": "b9c925dd",
   "metadata": {},
   "outputs": [],
   "source": [
    "import re\n",
    "def N_Gram(text,n):\n",
    "    #splits into tokens\n",
    "    tokens = re.split(\"\\\\s+\",text)\n",
    "    ngrams = []\n",
    "    #collect the n-grams\n",
    "    for i in range(len(tokens)-n+1):\n",
    "        temp = [tokens[j] for j in range(i,i+n)]\n",
    "        ngrams.append(\" \".join(temp))\n",
    "    return ngrams"
   ]
  },
  {
   "cell_type": "code",
   "execution_count": 42,
   "id": "27dca292",
   "metadata": {},
   "outputs": [],
   "source": [
    "hamBag = []\n",
    "spamBag =[]\n",
    "for i in range(recordCount):\n",
    "    res = N_Gram(cleanCorpus[i],1)\n",
    "    if labels[i] == 1:\n",
    "        spamBag.append(res)\n",
    "    elif labels[i] == 0:\n",
    "        hamBag.append(res)\n",
    "    else:\n",
    "        print(\"no text found\")"
   ]
  },
  {
   "cell_type": "code",
   "execution_count": 43,
   "id": "2b63ee58",
   "metadata": {},
   "outputs": [
    {
     "name": "stdout",
     "output_type": "stream",
     "text": [
      "5\n",
      "5\n",
      "<class 'list'>\n",
      "4911\n",
      "3286\n"
     ]
    }
   ],
   "source": [
    "print(len(hamBag))\n",
    "print(len(spamBag))\n",
    "print(type(spamBag))\n",
    "#list comprehension\n",
    "spamBag = ([_ for i in range(len(spamBag)) for _ in spamBag[i]])\n",
    "hamBag = ([_ for i in range(len(hamBag)) for _ in hamBag[i]])\n",
    "print(len(hamBag))\n",
    "print(len(spamBag))"
   ]
  },
  {
   "cell_type": "code",
   "execution_count": 44,
   "id": "17a45215",
   "metadata": {},
   "outputs": [],
   "source": [
    "def testModel(records,label):\n",
    "    testText=records\n",
    "    hamCount = 0\n",
    "    spamCount = 0\n",
    "    testText= N_Gram(testText,1)\n",
    "    testText = ([_ for i in range(len(testText)) for _ in testText[i]])\n",
    "    \n",
    "    for i in range(len(testText)):\n",
    "        for j in range(len(hamBag)):\n",
    "            if testText[i] == hamBag[j]:\n",
    "                hamCount = hamCount + 1\n",
    "        for k in range(len(spamBag)):\n",
    "            if testText[i] == spamBag[k]:\n",
    "                spamCount = spamCount + 1\n",
    "    \n",
    "    if hamCount>spamCount:\n",
    "        print(\"predicted label: ham\", \"actual lable: \",label)\n",
    "    else:\n",
    "        print(\"predicted label: spam\", \"actual lable: \",label)\n"
   ]
  },
  {
   "cell_type": "code",
   "execution_count": 9,
   "id": "b4cf286b",
   "metadata": {},
   "outputs": [
    {
     "name": "stdout",
     "output_type": "stream",
     "text": [
      "predicted label: ham actual lable:  0\n",
      "predicted label: ham actual lable:  0\n",
      "predicted label: ham actual lable:  1\n",
      "predicted label: ham actual lable:  1\n",
      "predicted label: ham actual lable:  0\n"
     ]
    }
   ],
   "source": [
    "testData = ds['text'][10:15]\n",
    "testLabels = ds['label'][10:15]\n",
    "for t in range(len(testData)):\n",
    "    testModel(testData[10+t],testLabels[t+10])"
   ]
  },
  {
   "cell_type": "code",
   "execution_count": 10,
   "id": "0c0a8a61",
   "metadata": {},
   "outputs": [],
   "source": [
    "tp =3 \n",
    "tn = 0\n",
    "fp= 2\n",
    "fn = 0\n",
    "accuracy = (3/5)*100 \n",
    "precision = tp/(tp+fp)\n",
    "recall = tp/(tp+fn)\n",
    "f1 = 2*((precision*recall)/(precision+recall))\n"
   ]
  },
  {
   "cell_type": "code",
   "execution_count": 11,
   "id": "e9218b87",
   "metadata": {},
   "outputs": [
    {
     "name": "stdout",
     "output_type": "stream",
     "text": [
      "accuracy: 60.0 \n",
      "precision: 0.6 \n",
      "recall: 1.0 \n",
      "f1 score: 0.7499999999999999\n"
     ]
    }
   ],
   "source": [
    "print(\"accuracy:\",accuracy,\"\\nprecision:\",precision,\"\\nrecall:\",recall,\"\\nf1 score:\",f1)"
   ]
  },
  {
   "cell_type": "code",
   "execution_count": null,
   "id": "7e4e4b35",
   "metadata": {},
   "outputs": [],
   "source": []
  }
 ],
 "metadata": {
  "kernelspec": {
   "display_name": "Python 3 (ipykernel)",
   "language": "python",
   "name": "python3"
  },
  "language_info": {
   "codemirror_mode": {
    "name": "ipython",
    "version": 3
   },
   "file_extension": ".py",
   "mimetype": "text/x-python",
   "name": "python",
   "nbconvert_exporter": "python",
   "pygments_lexer": "ipython3",
   "version": "3.9.7"
  }
 },
 "nbformat": 4,
 "nbformat_minor": 5
}
